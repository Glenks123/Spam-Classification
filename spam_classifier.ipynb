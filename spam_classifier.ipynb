{
 "cells": [
  {
   "cell_type": "code",
   "execution_count": 3,
   "id": "11a0f93c",
   "metadata": {},
   "outputs": [],
   "source": [
    "import sys\n",
    "sys.path.append('PATH TO utils FOLDER')\n",
    "\n",
    "import os\n",
    "import utils\n",
    "\n",
    "import importlib\n",
    "importlib.reload(utils)\n",
    "\n",
    "import numpy as np\n",
    "import pandas as pd\n",
    "from sklearn.svm import SVC\n",
    "from sklearn.metrics import accuracy_score\n",
    "from sklearn.model_selection import train_test_split as tts"
   ]
  },
  {
   "cell_type": "code",
   "execution_count": 4,
   "id": "2de96319",
   "metadata": {},
   "outputs": [],
   "source": [
    "df = pd.read_csv(os.path.join('Data', 'spam.csv'), encoding='ISO-8859-1')\n",
    "X = df['v2'].values # 5572x1\n",
    "y = np.unique(df['v1'], return_inverse=True)[1] # 5572x1"
   ]
  },
  {
   "cell_type": "code",
   "execution_count": 5,
   "id": "fcfccd8d",
   "metadata": {},
   "outputs": [],
   "source": [
    "n = 1899\n",
    "X_ = np.zeros((X.shape[0], n))\n",
    "\n",
    "for i in range(X.shape[0]):\n",
    "    word_indices = utils.processEmail(X[i])\n",
    "    email_features = utils.emailFeatures(word_indices)\n",
    "    X_[i] = email_features"
   ]
  },
  {
   "cell_type": "code",
   "execution_count": 6,
   "id": "9ab03d89",
   "metadata": {},
   "outputs": [],
   "source": [
    "X_train, X_test, y_train, y_test = tts(X_, y, test_size=0.2, random_state=0) # 4457x1899 & 1115x1899"
   ]
  },
  {
   "cell_type": "code",
   "execution_count": 7,
   "id": "9ab72347",
   "metadata": {},
   "outputs": [
    {
     "data": {
      "text/plain": [
       "SVC(kernel='linear')"
      ]
     },
     "execution_count": 7,
     "metadata": {},
     "output_type": "execute_result"
    }
   ],
   "source": [
    "clf = SVC(kernel='linear')\n",
    "clf.fit(X_train, y_train)"
   ]
  },
  {
   "cell_type": "code",
   "execution_count": 8,
   "id": "eccea5b2",
   "metadata": {},
   "outputs": [
    {
     "name": "stdout",
     "output_type": "stream",
     "text": [
      "Accuracy Score: 98.38565022421525\n"
     ]
    }
   ],
   "source": [
    "classification_predictions = clf.predict(X_test)\n",
    "print(f'Accuracy Score: {accuracy_score(y_test, classification_predictions) * 100}')"
   ]
  },
  {
   "cell_type": "code",
   "execution_count": 9,
   "id": "34ad9c2e",
   "metadata": {},
   "outputs": [
    {
     "name": "stdout",
     "output_type": "stream",
     "text": [
      "\n",
      "Processed Data\\spam_example.txt\n",
      "Spam Classification: Spam\n"
     ]
    }
   ],
   "source": [
    "filename = os.path.join('Data', 'spam_example.txt')\n",
    "\n",
    "with open(filename) as fid:\n",
    "    file_contents = fid.read()\n",
    "\n",
    "word_indices = utils.processEmail(file_contents)\n",
    "x = utils.emailFeatures(word_indices).reshape(1, -1)\n",
    "p = clf.predict(x)\n",
    "\n",
    "disp = 'Not Spam'\n",
    "if p: disp = 'Spam'\n",
    "\n",
    "print(f'\\nProcessed {filename}\\nSpam Classification: {disp}')"
   ]
  }
 ],
 "metadata": {
  "interpreter": {
   "hash": "dc07d24e2f18896857f0b2a651fe84ba40ce7b297e58d8804a308c8039f752a6"
  },
  "kernelspec": {
   "display_name": "Python 3.9.7 ('base')",
   "language": "python",
   "name": "python3"
  },
  "language_info": {
   "codemirror_mode": {
    "name": "ipython",
    "version": 3
   },
   "file_extension": ".py",
   "mimetype": "text/x-python",
   "name": "python",
   "nbconvert_exporter": "python",
   "pygments_lexer": "ipython3",
   "version": "3.9.7"
  }
 },
 "nbformat": 4,
 "nbformat_minor": 5
}
